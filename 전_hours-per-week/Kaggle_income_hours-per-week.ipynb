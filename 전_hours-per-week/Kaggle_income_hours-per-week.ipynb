{
 "cells": [
  {
   "cell_type": "markdown",
   "metadata": {},
   "source": [
    "### hours-per-week 그룹핑\n",
    "- 1-25 : part-time\n",
    "- 26-40 : full-time\n",
    "- 41~60 : over-time\n",
    "- over61 : too-much"
   ]
  },
  {
   "cell_type": "code",
   "execution_count": null,
   "metadata": {},
   "outputs": [],
   "source": [
    "def wbr(num):\n",
    "    if num in range(1,26,1):\n",
    "        return 'Part-time'\n",
    "    elif num in range(26,41,1):\n",
    "        return 'Full-time'\n",
    "    elif num in range(41,61,1):\n",
    "        return 'Over-time'\n",
    "    elif num in range(61,101,1):\n",
    "        return 'Too-much'"
   ]
  },
  {
   "cell_type": "code",
   "execution_count": null,
   "metadata": {},
   "outputs": [],
   "source": [
    "train['worktime'] = train['hours-per-week'].apply(wbr)\n",
    "X_test['worktime'] = X_test['hours-per-week'].apply(wbr)"
   ]
  },
  {
   "cell_type": "code",
   "execution_count": null,
   "metadata": {},
   "outputs": [],
   "source": [
    "del train['hours-per-week']\n",
    "del X_test['hours-per-week']"
   ]
  }
 ],
 "metadata": {
  "kernelspec": {
   "display_name": "Python 3",
   "language": "python",
   "name": "python3"
  },
  "language_info": {
   "codemirror_mode": {
    "name": "ipython",
    "version": 3
   },
   "file_extension": ".py",
   "mimetype": "text/x-python",
   "name": "python",
   "nbconvert_exporter": "python",
   "pygments_lexer": "ipython3",
   "version": "3.8.5"
  }
 },
 "nbformat": 4,
 "nbformat_minor": 4
}
