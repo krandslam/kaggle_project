{
 "cells": [
  {
   "cell_type": "markdown",
   "metadata": {},
   "source": [
    "### relationship\n",
    "- Husband, Wife => Married"
   ]
  },
  {
   "cell_type": "code",
   "execution_count": null,
   "metadata": {},
   "outputs": [],
   "source": [
    "train['relationship'] = train['relationship'].replace(\" Husband\", \" Married\")\n",
    "train['relationship'] = train['relationship'].replace(\" Wife\", \" Married\")\n",
    "X_test['relationship'] = X_test['relationship'].replace(\" Husband\", \" Married\")\n",
    "X_test['relationship'] = X_test['relationship'].replace(\" Wife\", \" Married\")"
   ]
  }
 ],
 "metadata": {
  "kernelspec": {
   "display_name": "Python 3",
   "language": "python",
   "name": "python3"
  },
  "language_info": {
   "codemirror_mode": {
    "name": "ipython",
    "version": 3
   },
   "file_extension": ".py",
   "mimetype": "text/x-python",
   "name": "python",
   "nbconvert_exporter": "python",
   "pygments_lexer": "ipython3",
   "version": "3.8.5"
  }
 },
 "nbformat": 4,
 "nbformat_minor": 4
}
