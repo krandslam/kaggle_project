{
 "cells": [
  {
   "cell_type": "markdown",
   "metadata": {},
   "source": [
    "### Occupation 그룹핑\n",
    "- occ_group1 : 직종별 새로운 그룹핑\n",
    "- occ_group2 : 고소득, 중위소득, 저소득으로 분류"
   ]
  },
  {
   "cell_type": "code",
   "execution_count": null,
   "metadata": {},
   "outputs": [],
   "source": [
    "def occ_group1(occupation):\n",
    "    if occupation in [' Adm-clerical']:\n",
    "        return 'Admin'\n",
    "    elif occupation in [' Armed-Forces']:\n",
    "        return 'Military'\n",
    "    elif occupation in [' Exec-managerial']:\n",
    "        return 'White-color'\n",
    "    elif occupation in [' Craft-repair', ' Farming-Fishing', ' Handlers-cleaners', ' Machine-op-inspct',\n",
    "                       ' Transport-moving', \" ?\"]:\n",
    "        return 'Blue-color'\n",
    "    elif occupation in [' Other-service', ' Priv-house-serv']:\n",
    "        return 'Service'\n",
    "    elif occupation in [' Sales']:\n",
    "        return 'Sales'\n",
    "    elif occupation in [' Prof-specialty']:\n",
    "        return 'Professional'\n",
    "    elif occupation in [' Protective-serv', ' Tech-support']:\n",
    "        return 'Other-occupations'"
   ]
  },
  {
   "cell_type": "code",
   "execution_count": null,
   "metadata": {},
   "outputs": [],
   "source": [
    "train['group_ocp'] = train['occupation'].apply(occ_group1)\n",
    "X_test['group_ocp'] = X_test['occupation'].apply(occ_group1)"
   ]
  },
  {
   "cell_type": "code",
   "execution_count": null,
   "metadata": {},
   "outputs": [],
   "source": [
    "del train['occupation']\n",
    "del X_test['occupation']"
   ]
  },
  {
   "cell_type": "code",
   "execution_count": null,
   "metadata": {},
   "outputs": [],
   "source": [
    "def occ_group2(occupation):\n",
    "    if occupation in [' Prof-specialty', ' Exec-managerial']:\n",
    "        return 'High'\n",
    "    elif occupation in [' Craft-repair', ' Sales', ]:\n",
    "        return 'Middle'\n",
    "    else:\n",
    "        return 'Low'"
   ]
  },
  {
   "cell_type": "code",
   "execution_count": null,
   "metadata": {},
   "outputs": [],
   "source": [
    "train['group_ocp'] = train['occupation'].apply(occ_group2)\n",
    "X_test['group_ocp'] = X_test['occupation'].apply(occ_group2)"
   ]
  },
  {
   "cell_type": "code",
   "execution_count": null,
   "metadata": {},
   "outputs": [],
   "source": [
    "del train['occupation']\n",
    "del X_test['occupation']"
   ]
  }
 ],
 "metadata": {
  "kernelspec": {
   "display_name": "Python 3",
   "language": "python",
   "name": "python3"
  },
  "language_info": {
   "codemirror_mode": {
    "name": "ipython",
    "version": 3
   },
   "file_extension": ".py",
   "mimetype": "text/x-python",
   "name": "python",
   "nbconvert_exporter": "python",
   "pygments_lexer": "ipython3",
   "version": "3.8.5"
  }
 },
 "nbformat": 4,
 "nbformat_minor": 4
}
